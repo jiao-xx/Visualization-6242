{
 "cells": [
  {
   "cell_type": "markdown",
   "id": "e5905a69",
   "metadata": {},
   "source": [
    "# CSE6242 - HW3 - Q1"
   ]
  },
  {
   "cell_type": "markdown",
   "id": "ddc5717e-fb7f-415c-ae02-16459c544fa4",
   "metadata": {},
   "source": [
    "<div class=\"alert alert-block alert-danger\">\n",
    "    WARNING: Do <strong>NOT</strong> remove any comment that says \"#export\" because that will crash the autograder in Gradescope. We use this comment to export your code in these cells for grading.\n",
    "</div>"
   ]
  },
  {
   "cell_type": "markdown",
   "id": "09289981",
   "metadata": {},
   "source": [
    "Pyspark Imports"
   ]
  },
  {
   "cell_type": "code",
   "execution_count": 1,
   "id": "139318cb",
   "metadata": {},
   "outputs": [],
   "source": [
    "#export\n",
    "### DO NOT MODIFY THIS CELL ###\n",
    "import pyspark\n",
    "from pyspark.sql import SQLContext\n",
    "from pyspark.sql.functions import hour, when, col, date_format, to_timestamp, ceil, coalesce"
   ]
  },
  {
   "cell_type": "markdown",
   "id": "3fd9e0f8",
   "metadata": {},
   "source": [
    "Initialize PySpark Context"
   ]
  },
  {
   "cell_type": "code",
   "execution_count": 2,
   "id": "b0c18c6c",
   "metadata": {},
   "outputs": [
    {
     "name": "stderr",
     "output_type": "stream",
     "text": [
      "Setting default log level to \"WARN\".\n",
      "To adjust logging level use sc.setLogLevel(newLevel). For SparkR, use setLogLevel(newLevel).\n",
      "24/03/05 21:50:18 WARN NativeCodeLoader: Unable to load native-hadoop library for your platform... using builtin-java classes where applicable\n",
      "/usr/local/lib/python3.9/dist-packages/pyspark/sql/context.py:113: FutureWarning: Deprecated in 3.0.0. Use SparkSession.builder.getOrCreate() instead.\n",
      "  warnings.warn(\n"
     ]
    }
   ],
   "source": [
    "### DO NOT MODIFY THIS CELL ###\n",
    "sc = pyspark.SparkContext(appName=\"HW3-Q1\")\n",
    "sqlContext = SQLContext(sc)"
   ]
  },
  {
   "cell_type": "markdown",
   "id": "d68ae314",
   "metadata": {},
   "source": [
    "Define function for loading data"
   ]
  },
  {
   "cell_type": "code",
   "execution_count": 3,
   "id": "7e5bbdda",
   "metadata": {},
   "outputs": [],
   "source": [
    "### DO NOT MODIFY THIS CELL ###\n",
    "def load_data():\n",
    "    df = sqlContext.read.option(\"header\",True) \\\n",
    "     .csv(\"yellow_tripdata_2019-01_short.csv\")\n",
    "    return df"
   ]
  },
  {
   "cell_type": "markdown",
   "id": "0d52409d",
   "metadata": {},
   "source": [
    "### Q1.a"
   ]
  },
  {
   "cell_type": "markdown",
   "id": "e43f6e00",
   "metadata": {},
   "source": [
    "Perform data casting to clean incoming dataset"
   ]
  },
  {
   "cell_type": "code",
   "execution_count": 4,
   "id": "11f801b4",
   "metadata": {},
   "outputs": [],
   "source": [
    "#export\n",
    "def clean_data(df):\n",
    "    '''\n",
    "    input: df a dataframe\n",
    "    output: df a dataframe with the all the original columns\n",
    "    '''\n",
    "    \n",
    "    # START YOUR CODE HERE ---------\n",
    "    df = df.withColumn(\"passenger_count\", df.passenger_count.cast(\"integer\"))\n",
    "    df = df.withColumn(\"total_amount\", df.total_amount.cast(\"float\"))\n",
    "    df = df.withColumn(\"tip_amount\", df.tip_amount.cast(\"float\"))\n",
    "    df = df.withColumn(\"trip_distance\", df.trip_distance.cast(\"float\"))\n",
    "    df = df.withColumn(\"fare_amount\", df.fare_amount.cast(\"float\"))\n",
    "    df = df.withColumn(\"tpep_pickup_datetime\", df.tpep_pickup_datetime.cast(\"timestamp\"))\n",
    "    df = df.withColumn(\"tpep_dropoff_datetime\", df.tpep_dropoff_datetime.cast(\"timestamp\"))\n",
    "    \n",
    "    # END YOUR CODE HERE -----------\n",
    "    \n",
    "    return df"
   ]
  },
  {
   "cell_type": "markdown",
   "id": "d4f565d0",
   "metadata": {},
   "source": [
    "### Q1.b"
   ]
  },
  {
   "cell_type": "markdown",
   "id": "72b4f712",
   "metadata": {},
   "source": [
    "Find rate per person for based on how many passengers travel between pickup and dropoff locations. "
   ]
  },
  {
   "cell_type": "code",
   "execution_count": 5,
   "id": "4e115152",
   "metadata": {},
   "outputs": [],
   "source": [
    "#export\n",
    "def common_pair(df):\n",
    "    '''\n",
    "    input: df a dataframe\n",
    "    output: df a dataframe with following columns:\n",
    "            - PULocationID\n",
    "            - DOLocationID\n",
    "            - total_passenger_count\n",
    "            - per_person_rate\n",
    "            \n",
    "    per_person_rate is the total_amount per person for a given pair.\n",
    "    \n",
    "    '''\n",
    "    \n",
    "    # START YOUR CODE HERE ---------\n",
    "    # Filter out trips with same pickup and dropoff location\n",
    "    df_filtered = df.filter(df[\"PULocationID\"] != df[\"DOLocationID\"])\n",
    "\n",
    "    # Group by PULocationID and DOLocationID\n",
    "    grouped_df = df_filtered.groupBy(\"PULocationID\", \"DOLocationID\") \\\n",
    "                            .agg({\"passenger_count\": \"sum\", \"total_amount\": \"sum\"})\n",
    "\n",
    "    # Rename the aggregated columns\n",
    "    grouped_df = grouped_df.withColumnRenamed(\"sum(passenger_count)\", \"total_passenger_count\") \\\n",
    "                           .withColumnRenamed(\"sum(total_amount)\", \"total_amount_sum\")\n",
    "\n",
    "    # Calculate per_person_rate\n",
    "    grouped_df = grouped_df.withColumn(\"per_person_rate\", \n",
    "                                       grouped_df[\"total_amount_sum\"] / grouped_df[\"total_passenger_count\"])\n",
    "\n",
    "    # Select required columns\n",
    "    final_df = grouped_df.select(\"PULocationID\", \"DOLocationID\", \"total_passenger_count\", \"per_person_rate\")\n",
    "\n",
    "    # Sort the DataFrame by total_passenger_count (desc) and then by per_person_rate (desc)\n",
    "    sorted_df = final_df.orderBy(\"total_passenger_count\", \"per_person_rate\", ascending=[False, False])\n",
    "\n",
    "    # Select the top 10 pairs\n",
    "    top_10_df = sorted_df.limit(10)\n",
    "\n",
    "    df = top_10_df\n",
    "    \n",
    "    # END YOUR CODE HERE -----------\n",
    "    \n",
    "    return df"
   ]
  },
  {
   "cell_type": "markdown",
   "id": "127574ab",
   "metadata": {},
   "source": [
    "### Q1.c"
   ]
  },
  {
   "cell_type": "markdown",
   "id": "36a8fd27",
   "metadata": {},
   "source": [
    "Find trips which trip distances generate the highest tip percentage."
   ]
  },
  {
   "cell_type": "code",
   "execution_count": 10,
   "id": "376c981c",
   "metadata": {},
   "outputs": [],
   "source": [
    "#export\n",
    "def distance_with_most_tip(df):\n",
    "    '''\n",
    "    input: df a dataframe\n",
    "    output: df a dataframe with following columns:\n",
    "            - trip_distance\n",
    "            - tip_percent\n",
    "            \n",
    "    trip_percent is the percent of tip out of fare_amount\n",
    "    \n",
    "    '''\n",
    "    \n",
    "    # START YOUR CODE HERE ---------\n",
    "  \n",
    "    # Filter for fare_amount > $2 and trip_distance > 0\n",
    "    filtered_df = df.filter((df.fare_amount > 2) & (df.trip_distance > 0))\n",
    "\n",
    "    # Calculate tip_percent\n",
    "    filtered_df = filtered_df.withColumn(\"tip_percent\", (df.tip_amount * 100) / df.fare_amount)\n",
    "\n",
    "    # Round trip distances up to the closest mile\n",
    "    filtered_df = filtered_df.withColumn(\"rounded_trip_distance\", ceil(df.trip_distance))\n",
    "\n",
    "    # Group by rounded trip distance and calculate average tip_percent\n",
    "    grouped_df = filtered_df.groupBy(\"rounded_trip_distance\").agg({\"tip_percent\": \"avg\"})\n",
    "\n",
    "    # Rename columns\n",
    "    grouped_df = grouped_df.withColumnRenamed(\"avg(tip_percent)\", \"tip_percent\") \\\n",
    "                           .withColumnRenamed(\"rounded_trip_distance\", \"trip_distance\")\n",
    "\n",
    "    # Sort by tip_percent in descending order and get top 15\n",
    "    result_df = grouped_df.orderBy(\"tip_percent\", ascending=False).limit(15)\n",
    "\n",
    "    df = result_df\n",
    "\n",
    "    # END YOUR CODE HERE -----------\n",
    "    \n",
    "    return df"
   ]
  },
  {
   "cell_type": "markdown",
   "id": "f0172fe6",
   "metadata": {},
   "source": [
    "### Q1.d"
   ]
  },
  {
   "cell_type": "markdown",
   "id": "4613c906",
   "metadata": {},
   "source": [
    "Determine the average speed at different times of day."
   ]
  },
  {
   "cell_type": "code",
   "execution_count": 8,
   "id": "505e9c30-016c-4c0d-9c75-1db128562e5b",
   "metadata": {},
   "outputs": [],
   "source": [
    "#export\n",
    "from pyspark.sql.functions import (\n",
    "    hour, when, col, to_timestamp, sum, count, first, lit\n",
    ")\n",
    "\n",
    "def time_with_most_traffic(df):\n",
    "    '''\n",
    "    input: df a dataframe\n",
    "    output: df a dataframe with following columns:\n",
    "            - time_of_day\n",
    "            - am_avg_speed\n",
    "            - pm_avg_speed\n",
    "            \n",
    "    trip_percent is the percent of tip out of fare_amount\n",
    "    \n",
    "    '''\n",
    "    \n",
    "    # START YOUR CODE HERE ---------\n",
    "    # Convert pickup and dropoff times to timestamps\n",
    "    df = df.withColumn(\"pickup_datetime\", to_timestamp(\"tpep_pickup_datetime\", \"yyyy-MM-dd HH:mm:ss\"))\n",
    "    df = df.withColumn(\"dropoff_datetime\", to_timestamp(\"tpep_dropoff_datetime\", \"yyyy-MM-dd HH:mm:ss\"))\n",
    "\n",
    "    # Calculate trip duration in hours\n",
    "    df = df.withColumn(\"trip_duration\", (col(\"dropoff_datetime\").cast(\"long\") - col(\"pickup_datetime\").cast(\"long\")) / 3600)\n",
    "\n",
    "    # Extract the hour from pickup datetime\n",
    "    df = df.withColumn(\"hour_of_day\", hour(\"pickup_datetime\"))\n",
    "\n",
    "    # Aggregate data by hour_of_day\n",
    "    df_grouped = df.groupBy(\"hour_of_day\").agg(\n",
    "        sum(\"trip_distance\").alias(\"total_trip_distance\"),\n",
    "        sum(\"trip_duration\").alias(\"total_trip_duration_hours\"),\n",
    "        count(\"*\").alias(\"trip_count\")\n",
    "    )\n",
    "\n",
    "    # Calculate average speed, handling cases where duration is zero\n",
    "    df_grouped = df_grouped.withColumn(\"average_speed\",\n",
    "        when(col(\"total_trip_duration_hours\") > 0, col(\"total_trip_distance\") / col(\"total_trip_duration_hours\")).otherwise(lit(None))\n",
    "    )\n",
    "\n",
    "    # Separate average speed into AM and PM and replace 0.0 with null\n",
    "    df_grouped = df_grouped.withColumn(\"time_of_day\", when(col(\"hour_of_day\") < 12, col(\"hour_of_day\")).otherwise(col(\"hour_of_day\") - 12))\n",
    "    df_grouped = df_grouped.withColumn(\"am_pm\", when(col(\"hour_of_day\") < 12, \"AM\").otherwise(\"PM\"))\n",
    "    df_grouped = df_grouped.withColumn(\"am_avg_speed\", when(col(\"am_pm\") == \"AM\", col(\"average_speed\")))\n",
    "    df_grouped = df_grouped.withColumn(\"pm_avg_speed\", when(col(\"am_pm\") == \"PM\", col(\"average_speed\")))\n",
    "\n",
    "    # Pivot the DataFrame to have separate columns for AM and PM average speeds\n",
    "    final_df = df_grouped.groupBy(\"time_of_day\").pivot(\"am_pm\").agg(first(\"average_speed\"))\n",
    "\n",
    "    # Rename columns\n",
    "    rename_df = final_df.withColumnRenamed(\"AM\", \"am_avg_speed\").withColumnRenamed(\"PM\", \"pm_avg_speed\")\n",
    "\n",
    "    # Fill null values with 'null'\n",
    "    df = rename_df.na.fill({\"am_avg_speed\": 'null', \"pm_avg_speed\": 'null'})\n",
    "\n",
    "    # END YOUR CODE HERE -----------\n",
    "    \n",
    "    return df"
   ]
  }
 ],
 "metadata": {
  "kernelspec": {
   "display_name": "Python 3 (ipykernel)",
   "language": "python",
   "name": "python3"
  },
  "language_info": {
   "codemirror_mode": {
    "name": "ipython",
    "version": 3
   },
   "file_extension": ".py",
   "mimetype": "text/x-python",
   "name": "python",
   "nbconvert_exporter": "python",
   "pygments_lexer": "ipython3",
   "version": "3.9.2"
  }
 },
 "nbformat": 4,
 "nbformat_minor": 5
}
